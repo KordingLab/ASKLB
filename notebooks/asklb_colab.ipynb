{
 "cells": [
  {
   "cell_type": "markdown",
   "metadata": {
    "id": "TuloqX0cEfFf"
   },
   "source": [
    "# ASKLB Azure Widget\n",
    "\n",
    "## Initial Setup\n",
    "\n",
    "- Run the two cells below. Note that the first cell may take some time to complete.\n",
    "\n",
    "## Create User/Password\n",
    "\n",
    "- If this is your first time using ASKLB, enter a username/password and click \"Register.\" Otherwise log in with your user credentials. \n",
    "- The widget will then display the full user interface.\n",
    "\n",
    "## Workflow\n",
    "\n",
    "1. Determine your query budget using the slider (we recommend a maximum of 10 queries)\n",
    "2. Determine your autoML run time.\n",
    "3. Upload data for a particular run (detailed instructions below).\n",
    "4. After fitting, view the results under the \"Model Run Info\" tab and make any feature adjustments to your dataset.\n",
    "5. Repeat steps 2-4 until your query budget is exhausted; the \"Select Final Model\" tab will then appear.\n",
    "6. Make your final model choice in the drop-down, and the true test accuracy as well as the true AUC will be displayed.\n",
    "\n",
    "\n",
    "## Data upload instructions\n",
    "- Data uploaded should be in a csv file, with no headers, and the target labels in the first column\n",
    "- The test samples should occur at the **end of the file**, and the overall test sample size must be specified\n",
    "- Upload files by navigating to Files menu on the left toolbar and clicking on the \"Upload\" icon.\n",
    "- Subsequent uploads should have the same number of examples, with the data samples in the **same order** as the original upload.\n",
    "\n",
    "## FAQs\n",
    "\n",
    "#### Q: How do I define my training and test set in the .csv file uploaded?\n",
    "\n",
    "**A:** In your .csv file, please place the test samples after all the training samples, and define the number of test sample in the GUI.\n",
    "\n",
    "#### Q: How much time should I allow this automated machine learning tool to run per query?\n",
    "\n",
    "**A:** We recommend a minimum of 10 minutes. The automated machine learning tool builds\n",
    "ensemble out of the machine learning models it creates within the time budget. Therefore,\n",
    "longer time given to the tool can potentially result in better prediction performance.\n",
    "\n",
    "#### Q: Do I have to finish all the queries I define? Is any result before I finish the last query and choose model report?\n",
    "\n",
    "**A:** Yes you have to finish all the queries you define in order to choose a model and reveal its\n",
    "true performance metrics. All the test set accuracies you have been reported before this\n",
    "procedure are “noised” via a differential privacy algorithm to prevent overfitting, therefore non\n",
    "of these accuracies are reportable.\n",
    "\n",
    "#### Q: Why do I observe relatively big fluctuation (> 0.1) of reported test set accuracy scores between queries when I did not even modify the dataset that is uploaded?\n",
    "\n",
    "**A:** The test set accuracies you have been reported after each query are “noised” via a\n",
    "differential privacy algorithm to prevent overfitting, sometimes when the actual difference of the\n",
    "accuracy of training and test sets are within a random “threshold” value, the training accuracy\n",
    "is reported as “noised” test set accuracy. Therefore when the “threshold” value is large it is\n",
    "normal to observe relatively high variance of reported test accuracies between queries.\n",
    "\n",
    "#### Q: Is it normal to have reported test accuracy equal to the training accuracy in a query?\n",
    "\n",
    "**A:** Yes, when the difference of the training accuracy and the true test accuracy are within a\n",
    "random “threshold” value, the training accuracy is reported as “noised” test set accuracy.\n",
    "\n",
    "#### Q: Will I get the same outcome with the same dataset and same configuration of the tool?\n",
    "\n",
    "**A:** No, this tool is based upon the package Autosklearn, which is stochastic by nature. The way\n",
    "Autosklearn works is that it builds an ensemble out of the models it generate within the time\n",
    "budget. Each time Autosklearn build different libraries of machine learning models, therefore\n",
    "the ensembles that are built can be different."
   ]
  },
  {
   "cell_type": "markdown",
   "metadata": {
    "id": "I8sGrtfXoqFU"
   },
   "source": [
    "### Setup step 1\n",
    "\n",
    "Run the cell below to initialize ASKLB. You may be prompted by Colab to **restart the session** after the cell completes running, please restart the session before proceeding to the next setup step."
   ]
  },
  {
   "cell_type": "code",
   "execution_count": null,
   "metadata": {},
   "outputs": [],
   "source": [
    "#@title\n",
    "%%capture\n",
    "%%time\n",
    "\n",
    "!pip uninstall scipy pyparsing scikit_learn imbalanced-learn mlxtend yellowbrick  -y\n",
    "\n",
    "!pip install Cython==0.29.36 scipy==1.9 pyparsing==2.4 "
   ]
  },
  {
   "cell_type": "markdown",
   "metadata": {},
   "source": [
    "### Setup step 2\n",
    "\n",
    "Run the cell below to complete ASKLB configuration and initialize. This step may take ~5-10 minutes to complete."
   ]
  },
  {
   "cell_type": "code",
   "execution_count": null,
   "metadata": {
    "cellView": "form",
    "id": "WuJXzvO-hjny"
   },
   "outputs": [],
   "source": [
    "#@title\n",
    "%%capture\n",
    "%%time\n",
    "\n",
    "!wget https://gist.githubusercontent.com/tliu526/07234087daa9120f6ad0e6241c2881b0/raw/44f0ebbed00175fd5f8ead9da54a6b9cf65a4dd0/.widget_config.ini\n",
    "!wget https://raw.githubusercontent.com/KordingLab/ASKLB/master/asklb/model_utils.py\n",
    "!wget https://raw.githubusercontent.com/KordingLab/ASKLB/master/asklb/widget.py\n",
    "!wget https://github.com/KordingLab/ASKLB/raw/master/metalearning/metalearning_files.zip\n",
    "!unzip metalearning_files.zip\n",
    "!mkdir .metalearning\n",
    "!mv metalearning_files .metalearning\n",
    "\n",
    "# Initial setup of dependencies\n",
    "!pip install scikit-learn==0.24.2 --no-build-isolation\n",
    "\n",
    "!pip install auto-sklearn==0.15.0\n",
    "!pip install pymongo\n",
    "!pip install bcrypt"
   ]
  },
  {
   "cell_type": "code",
   "execution_count": null,
   "metadata": {
    "id": "7iU3Wo_mEfFj"
   },
   "outputs": [],
   "source": [
    "from widget import ASKLBWidget\n",
    "ASKLBWidget()"
   ]
  }
 ],
 "metadata": {
  "colab": {
   "collapsed_sections": [],
   "name": "asklb_widget_colab.ipynb",
   "provenance": [],
   "toc_visible": true
  },
  "hide_input": false,
  "kernelspec": {
   "display_name": "Python 3 (ipykernel)",
   "language": "python",
   "name": "python3"
  },
  "language_info": {
   "codemirror_mode": {
    "name": "ipython",
    "version": 3
   },
   "file_extension": ".py",
   "mimetype": "text/x-python",
   "name": "python",
   "nbconvert_exporter": "python",
   "pygments_lexer": "ipython3",
   "version": "3.10.12"
  }
 },
 "nbformat": 4,
 "nbformat_minor": 4
}
