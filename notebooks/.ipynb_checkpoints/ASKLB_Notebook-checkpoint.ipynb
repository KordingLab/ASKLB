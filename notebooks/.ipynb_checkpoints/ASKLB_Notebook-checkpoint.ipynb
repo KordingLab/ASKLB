{
 "cells": [
  {
   "cell_type": "markdown",
   "metadata": {},
   "source": [
    "# ASKLB Jupyter Notebook \n",
    "### Note: If running on new Google Colab instance, run the three lines below to download dependencies:\n",
    "!apt-get install build-essential swig <br>\n",
    "!curl https://raw.githubusercontent.com/automl/auto-sklearn/master/requirements.txt | xargs -n 1 -L 1 pip install <br>\n",
    "!pip install auto-sklearn\n",
    "\n",
    "### Colab Link\n",
    "https://colab.research.google.com/github/KordingLab/ASKLB/blob/master/notebooks/ASKLB_Notebook.ipynb"
   ]
  },
  {
   "cell_type": "markdown",
   "metadata": {},
   "source": [
    "Uncomment and run this code if on Colab and need to install dependencies for Auto-Sklearn"
   ]
  },
  {
   "cell_type": "code",
   "execution_count": 6,
   "metadata": {},
   "outputs": [],
   "source": [
    "# !apt-get install build-essential swig \n",
    "# !curl https://raw.githubusercontent.com/automl/auto-sklearn/master/requirements.txt | xargs -n 1 -L 1 pip install \n",
    "# !pip install auto-sklearn"
   ]
  },
  {
   "cell_type": "code",
   "execution_count": 7,
   "metadata": {},
   "outputs": [],
   "source": [
    "import autosklearn.classification\n",
    "import autosklearn.regression\n",
    "import sklearn.model_selection\n",
    "import numpy\n",
    "import ipywidgets as widgets\n",
    "from IPython.display import display\n",
    "from ipywidgets import HBox, Label\n",
    "import warnings\n",
    "import threading\n",
    "import time\n",
    "import os, sys\n",
    "import sklearn.metrics as metrics"
   ]
  },
  {
   "cell_type": "markdown",
   "metadata": {},
   "source": [
    "### Load X and y datasets\n",
    "Should have names automl_X.csv and automl_Y.csv respectively (will see if I can use a file upload widget)"
   ]
  },
  {
   "cell_type": "code",
   "execution_count": 8,
   "metadata": {},
   "outputs": [],
   "source": [
    "X = numpy.loadtxt('automl_X.csv', delimiter=',')\n",
    "y = numpy.loadtxt('automl_y.csv', delimiter=',')\n",
    "X_train, X_test, y_train, y_test = sklearn.model_selection.train_test_split(X, y, random_state=1)"
   ]
  },
  {
   "cell_type": "code",
   "execution_count": 9,
   "metadata": {},
   "outputs": [],
   "source": [
    "class HiddenPrints:\n",
    "    def __enter__(self):\n",
    "        self._original_stdout = sys.stdout\n",
    "        sys.stdout = open(os.devnull, 'w')\n",
    "\n",
    "    def __exit__(self, exc_type, exc_val, exc_tb):\n",
    "        sys.stdout.close()\n",
    "        sys.stdout = self._original_stdout\n",
    "\n",
    "def work(progress):\n",
    "        for i in range(int(progress.max/5)):\n",
    "            time.sleep(5)\n",
    "            progress.value = progress.value+5\n",
    "\n",
    "def on_button_clicked(b):        \n",
    "    models_output.clear_output()\n",
    "    metrics_output.clear_output()\n",
    "    b.disabled=True\n",
    "    final_runtime_value_seconds = runtime_widget.value * 60\n",
    "    progress.value = 0    \n",
    "    progress.max=final_runtime_value_seconds\n",
    "    with output:\n",
    "        print(\"AUTOML FITTING STARTED, FITTING TIME IS \", int(final_runtime_value_seconds/60), \" MINUTES\")\n",
    "        \n",
    "    automl = autosklearn.classification.AutoSklearnClassifier(time_left_for_this_task = final_runtime_value_seconds)\n",
    "    thread = threading.Thread(target=work, args=(progress,))    \n",
    "    thread.start()\n",
    "    \n",
    "    with warnings.catch_warnings():\n",
    "        warnings.simplefilter(\"ignore\")\n",
    "        with HiddenPrints():\n",
    "            automl.fit(X_train, y_train)\n",
    "    \n",
    "    with output:\n",
    "        print(\"FITTING COMPLETED WITH FITTING TIME PARAMETER AS \", int(final_runtime_value_seconds/60), \" MINUTES\")\n",
    "        \n",
    "    with metrics_output:            \n",
    "        y_train_hat = automl.predict(X_train)\n",
    "        train_accuracy_score = sklearn.metrics.accuracy_score(y_train, y_train_hat)\n",
    "        print(\"Train Accuracy Score: \", train_accuracy_score)\n",
    "        \n",
    "        \n",
    "        y_test_hat = automl.predict(X_test)\n",
    "        test_accuracy_score = sklearn.metrics.accuracy_score(y_test, y_test_hat)\n",
    "        print(\"Test Accuracy Score: \", test_accuracy_score)\n",
    "        \n",
    "        fpr_train, tpr_train, threshold_train = metrics.roc_curve(y_train, y_train_hat)\n",
    "        roc_auc_train = metrics.auc(fpr_train, tpr_train)\n",
    "        \n",
    "        print(\"Train ROC AUC: \", roc_auc_train)      \n",
    "        \n",
    "        fpr_test, tpr_test, threshold_test = metrics.roc_curve(y_test, y_test_hat)\n",
    "        roc_auc_test = metrics.auc(fpr_test, tpr_test)\n",
    "        \n",
    "        print(\"Test ROC AUC: \", roc_auc_test)\n",
    "        \n",
    "    with models_output:\n",
    "        print(\"MODELS:\")\n",
    "        print(automl.get_models_with_weights())\n",
    "        \n",
    "    b.disabled=False"
   ]
  },
  {
   "cell_type": "code",
   "execution_count": 10,
   "metadata": {},
   "outputs": [],
   "source": [
    "items_layout = widgets.Layout( width='auto')\n",
    "\n",
    "runtime_widget = widgets.IntSlider(\n",
    "    value=15,\n",
    "    min=1,\n",
    "    max=60)\n",
    "\n",
    "progress = widgets.IntProgress(value=0, min=0, description=\"Progress\")\n",
    "\n",
    "button = widgets.Button(description=\"Fit Data to AutoML Model\", layout = items_layout, button_style='primary')\n",
    "button.on_click(on_button_clicked)\n",
    "\n",
    "runtime_slider = HBox([Label('AutoML Runtime (minutes)'), runtime_widget])\n",
    "\n",
    "output = widgets.Output(layout={'border': '1px solid black'})\n",
    "metrics_output = widgets.Output()\n",
    "models_output = widgets.Output()\n",
    "models_accordian = widgets.Accordion(children=[metrics_output, models_output])\n",
    "models_accordian.set_title(0, 'Performance Metrics')\n",
    "models_accordian.set_title(1, 'Models and Weights Data')"
   ]
  },
  {
   "cell_type": "markdown",
   "metadata": {},
   "source": [
    "### AutoML WIDGET"
   ]
  },
  {
   "cell_type": "code",
   "execution_count": 11,
   "metadata": {},
   "outputs": [
    {
     "data": {
      "application/vnd.jupyter.widget-view+json": {
       "model_id": "493630885da54d30b94fb659bcf9e314",
       "version_major": 2,
       "version_minor": 0
      },
      "text/plain": [
       "Box(children=(HBox(children=(Label(value='AutoML Runtime (minutes)'), IntSlider(value=15, max=60, min=1))), Bu…"
      ]
     },
     "metadata": {},
     "output_type": "display_data"
    }
   ],
   "source": [
    "widget_items = [runtime_slider, button, progress, output, models_accordian]\n",
    "\n",
    "box_layout = widgets.Layout(display='flex',\n",
    "                    flex_flow='column',\n",
    "                    align_items='stretch',\n",
    "                    border='solid',\n",
    "                    width='65%')\n",
    "box = widgets.Box(children=widget_items, layout=box_layout)\n",
    "box"
   ]
  },
  {
   "cell_type": "code",
   "execution_count": null,
   "metadata": {},
   "outputs": [],
   "source": []
  }
 ],
 "metadata": {
  "kernelspec": {
   "display_name": "Python [conda env:auto-sklearn]",
   "language": "python",
   "name": "conda-env-auto-sklearn-py"
  },
  "language_info": {
   "codemirror_mode": {
    "name": "ipython",
    "version": 3
   },
   "file_extension": ".py",
   "mimetype": "text/x-python",
   "name": "python",
   "nbconvert_exporter": "python",
   "pygments_lexer": "ipython3",
   "version": "3.7.4"
  }
 },
 "nbformat": 4,
 "nbformat_minor": 2
}
